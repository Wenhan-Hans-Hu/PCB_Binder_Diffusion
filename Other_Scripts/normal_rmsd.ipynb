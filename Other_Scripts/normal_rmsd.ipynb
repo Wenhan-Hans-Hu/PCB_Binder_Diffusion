{
 "cells": [
  {
   "cell_type": "code",
   "execution_count": 1,
   "id": "8a0f2bb9",
   "metadata": {},
   "outputs": [],
   "source": [
    "from rdkit import Chem\n",
    "from rdkit.Chem import AllChem\n",
    "from rdkit.Chem import rdMolAlign\n",
    "# Correct file loading\n",
    "mol1 = Chem.MolFromMol2File('ref.mol2', sanitize=False)\n",
    "mol2 = Chem.MolFromMol2File('tar.mol2', sanitize=False)\n",
    "\n",
    "# Check load success\n",
    "if mol1 is None or mol2 is None:\n",
    "    raise ValueError(\"Failed to load one or both mol2 files\")\n",
    "\n",
    "# # Check atom count\n",
    "# if mol1.GetNumAtoms() != mol2.GetNumAtoms():\n",
    "#     raise ValueError(\"Molecule atom count mismatch\")\n",
    "\n",
    "# Calculate RMSD\n",
    "rmsd = rdMolAlign.GetBestRMS(mol1, mol2)\n",
    "print(f\"RMSD: {rmsd:.3f} Å\")\n"
   ]
  },
  {
   "cell_type": "code",
   "execution_count": 24,
   "id": "251a20e8",
   "metadata": {},
   "outputs": [
    {
     "name": "stdout",
     "output_type": "stream",
     "text": [
      "Best atom map (ref → tar): [(38, 0), (4, 1), (29, 2), (14, 3), (1, 4), (27, 5), (12, 6), (17, 7), (11, 8), (21, 9), (37, 10), (36, 11), (6, 12), (25, 13), (9, 14), (19, 15), (8, 16), (7, 17), (16, 18), (15, 19), (10, 20), (24, 21), (35, 22), (26, 23), (33, 24), (28, 25), (40, 26), (23, 27), (18, 28), (31, 29), (32, 30), (42, 31), (34, 32), (20, 33), (3, 34), (13, 35), (5, 36), (39, 37), (2, 38), (30, 39), (22, 40), (0, 41), (41, 42)]\n",
      "Geometry-based RMSD: 4.778 Å\n"
     ]
    },
    {
     "name": "stderr",
     "output_type": "stream",
     "text": [
      "[13:48:54] 4f0u_Chain_E_seed_10620_sample_1: Warning - no explicit hydrogens in mol2 file but needed for formal charge estimation.\n",
      "[13:48:54] 4f0u_chain_e_seed_10620_sample_2_predicted_by_protenix_2: Warning - no explicit hydrogens in mol2 file but needed for formal charge estimation.\n"
     ]
    }
   ],
   "source": [
    "import numpy as np\n",
    "from rdkit import Chem\n",
    "from rdkit.Chem import AllChem, rdMolAlign\n",
    "from scipy.spatial.distance import cdist\n",
    "from scipy.optimize import linear_sum_assignment\n",
    "\n",
    "def load_mol_no_sanitize(path):\n",
    "    mol = Chem.MolFromMol2File(path, sanitize=False, removeHs=False)\n",
    "    if mol is None:\n",
    "        raise ValueError(f\"Could not load: {path}\")\n",
    "    if mol.GetNumConformers() == 0:\n",
    "        raise ValueError(f\"No 3D coordinates found in: {path}\")\n",
    "    return mol\n",
    "\n",
    "def get_atom_positions(mol):\n",
    "    conf = mol.GetConformer()\n",
    "    return np.array([list(conf.GetAtomPosition(i)) for i in range(mol.GetNumAtoms())])\n",
    "\n",
    "# === Load molecules ===\n",
    "ref = load_mol_no_sanitize(\"ref.mol2\")\n",
    "tar = load_mol_no_sanitize(\"tar.mol2\")\n",
    "\n",
    "# === Check atom counts ===\n",
    "if ref.GetNumAtoms() != tar.GetNumAtoms():\n",
    "    raise ValueError(\"Atom count mismatch!\")\n",
    "\n",
    "# === Get 3D coordinates ===\n",
    "ref_coords = get_atom_positions(ref)\n",
    "tar_coords = get_atom_positions(tar)\n",
    "\n",
    "# === Compute distance matrix and optimal atom mapping ===\n",
    "dist_matrix = cdist(tar_coords, ref_coords)  # probe rows, reference columns\n",
    "tar_idx, ref_idx = linear_sum_assignment(dist_matrix)\n",
    "\n",
    "# === Prepare atom map (ref_index, tar_index) for AlignMol ===\n",
    "atom_map = [(int(r), int(t)) for t, r in zip(tar_idx, ref_idx)]  # AlignMol wants (ref, tar)\n",
    "\n",
    "# === Align and compute RMSD ===\n",
    "rmsd = rdMolAlign.AlignMol(tar, ref, atomMap=atom_map)\n",
    "print(\"Best atom map (ref → tar):\", atom_map)\n",
    "print(f\"Geometry-based RMSD: {rmsd:.3f} Å\")\n",
    "\n",
    "# === Optional: Save aligned tar as SDF ===\n",
    "from rdkit.Chem import SDWriter\n",
    "writer = SDWriter(\"aligned_tar.sdf\")\n",
    "writer.write(tar)\n",
    "writer.close()\n",
    "\n"
   ]
  },
  {
   "cell_type": "code",
   "execution_count": 23,
   "id": "676e5e25",
   "metadata": {},
   "outputs": [
    {
     "name": "stderr",
     "output_type": "stream",
     "text": [
      "[13:48:33] 4f0u_Chain_E_seed_10620_sample_1: Warning - no explicit hydrogens in mol2 file but needed for formal charge estimation.\n",
      "[13:48:33] 4f0u_chain_e_seed_10620_sample_2_predicted_by_protenix_2: Warning - no explicit hydrogens in mol2 file but needed for formal charge estimation.\n"
     ]
    },
    {
     "ename": "RuntimeError",
     "evalue": "No sub-structure match found between the reference and probe mol",
     "output_type": "error",
     "traceback": [
      "\u001b[0;31m---------------------------------------------------------------------------\u001b[0m",
      "\u001b[0;31mRuntimeError\u001b[0m                              Traceback (most recent call last)",
      "\u001b[0;32m/tmp/ipykernel_156801/3822053179.py\u001b[0m in \u001b[0;36m<module>\u001b[0;34m\u001b[0m\n\u001b[1;32m     12\u001b[0m \u001b[0;34m\u001b[0m\u001b[0m\n\u001b[1;32m     13\u001b[0m \u001b[0;31m# Calculate RMSD\u001b[0m\u001b[0;34m\u001b[0m\u001b[0;34m\u001b[0m\u001b[0m\n\u001b[0;32m---> 14\u001b[0;31m \u001b[0mrmsd\u001b[0m \u001b[0;34m=\u001b[0m \u001b[0mrdMolAlign\u001b[0m\u001b[0;34m.\u001b[0m\u001b[0mGetBestRMS\u001b[0m\u001b[0;34m(\u001b[0m\u001b[0mmol1\u001b[0m\u001b[0;34m,\u001b[0m \u001b[0mmol2\u001b[0m\u001b[0;34m)\u001b[0m\u001b[0;34m\u001b[0m\u001b[0;34m\u001b[0m\u001b[0m\n\u001b[0m\u001b[1;32m     15\u001b[0m \u001b[0mprint\u001b[0m\u001b[0;34m(\u001b[0m\u001b[0;34mf\"RMSD: {rmsd:.3f} Å\"\u001b[0m\u001b[0;34m)\u001b[0m\u001b[0;34m\u001b[0m\u001b[0;34m\u001b[0m\u001b[0m\n",
      "\u001b[0;31mRuntimeError\u001b[0m: No sub-structure match found between the reference and probe mol"
     ]
    }
   ],
   "source": []
  },
  {
   "cell_type": "code",
   "execution_count": 25,
   "id": "24202bd8",
   "metadata": {},
   "outputs": [
    {
     "name": "stdout",
     "output_type": "stream",
     "text": [
      "Best RMSD matching failed: No sub-structure match found between the reference and probe mol\n",
      "Forced RMSD (atom order assumed to match): 3.291 Å\n"
     ]
    },
    {
     "name": "stderr",
     "output_type": "stream",
     "text": [
      "[13:48:59] 4f0u_Chain_E_seed_10620_sample_1: Warning - no explicit hydrogens in mol2 file but needed for formal charge estimation.\n",
      "[13:48:59] 4f0u_chain_e_seed_10620_sample_2_predicted_by_protenix_2: Warning - no explicit hydrogens in mol2 file but needed for formal charge estimation.\n"
     ]
    }
   ],
   "source": [
    "from rdkit import Chem\n",
    "from rdkit.Chem import AllChem, rdMolAlign\n",
    "\n",
    "# Load mol2 files (without sanitization, to avoid hydrogen/charge issues)\n",
    "mol1 = Chem.MolFromMol2File('ref.mol2', sanitize=False, removeHs=False)\n",
    "mol2 = Chem.MolFromMol2File('tar.mol2', sanitize=False, removeHs=False)\n",
    "\n",
    "# Check if molecules loaded correctly\n",
    "if mol1 is None or mol2 is None:\n",
    "    raise ValueError(\"Failed to load one or both mol2 files\")\n",
    "\n",
    "# Check atom count\n",
    "n_atoms1 = mol1.GetNumAtoms()\n",
    "n_atoms2 = mol2.GetNumAtoms()\n",
    "if n_atoms1 != n_atoms2:\n",
    "    raise ValueError(f\"Atom count mismatch: ref={n_atoms1}, tar={n_atoms2}\")\n",
    "\n",
    "try:\n",
    "    # Try best RMS with automatic atom matching\n",
    "    rmsd = rdMolAlign.GetBestRMS(mol1, mol2)\n",
    "    print(f\"Best RMSD (with matching): {rmsd:.3f} Å\")\n",
    "except RuntimeError as e:\n",
    "    print(\"Best RMSD matching failed:\", e)\n",
    "    # Attempt direct mapping if atom order is assumed to match\n",
    "    atom_map = list(zip(range(n_atoms1), range(n_atoms2)))\n",
    "    rmsd = rdMolAlign.AlignMol(mol2, mol1, atomMap=atom_map)\n",
    "    print(f\"Forced RMSD (atom order assumed to match): {rmsd:.3f} Å\")\n"
   ]
  }
 ],
 "metadata": {
  "kernelspec": {
   "display_name": "Python 3 (ipykernel)",
   "language": "python",
   "name": "python3"
  },
  "language_info": {
   "codemirror_mode": {
    "name": "ipython",
    "version": 3
   },
   "file_extension": ".py",
   "mimetype": "text/x-python",
   "name": "python",
   "nbconvert_exporter": "python",
   "pygments_lexer": "ipython3",
   "version": "3.10.12"
  }
 },
 "nbformat": 4,
 "nbformat_minor": 5
}
