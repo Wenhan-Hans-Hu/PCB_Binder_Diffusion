{
 "cells": [
  {
   "cell_type": "code",
   "execution_count": 2,
   "id": "8a0f2bb9",
   "metadata": {},
   "outputs": [],
   "source": [
    "import os\n",
    "import glob\n",
    "from Bio.PDB import PPBuilder\n",
    "from Bio.PDB import PDBParser, PDBIO"
   ]
  },
  {
   "cell_type": "code",
   "execution_count": null,
   "id": "20dde0a0",
   "metadata": {},
   "outputs": [],
   "source": [
    "def split_pdb_by_chain(input_dir, output_dir):\n",
    "    \"\"\"\n",
    "    Splits each PDB file in the input directory into separate files for each chain.\n",
    "\n",
    "    Parameters:\n",
    "    - input_dir: Directory containing the PDB files.\n",
    "    - output_dir: Directory where the split PDB files will be saved.\n",
    "    \"\"\"\n",
    "    parser = PDBParser(QUIET=True)\n",
    "    io = PDBIO()\n",
    "\n",
    "    # Ensure the output directory exists\n",
    "    if not os.path.exists(output_dir):\n",
    "        os.makedirs(output_dir)\n",
    "\n",
    "    # Iterate over all PDB files in the input directory\n",
    "    for pdb_file in os.listdir(input_dir):\n",
    "        if pdb_file.endswith('.pdb'):\n",
    "            pdb_path = os.path.join(input_dir, pdb_file)\n",
    "            structure = parser.get_structure(pdb_file[:-4], pdb_path)\n",
    "\n",
    "            # Iterate over each model in the structure\n",
    "            for model in structure:\n",
    "                # Iterate over each chain in the model\n",
    "                for chain in model:\n",
    "                    chain_id = chain.id\n",
    "                    output_filename = f\"{pdb_file[:-4]}_Chain_{chain_id}.pdb\"\n",
    "                    output_path = os.path.join(output_dir, output_filename)\n",
    "\n",
    "                    # Save the current chain to a new PDB file\n",
    "                    io.set_structure(chain)\n",
    "                    io.save(output_path)\n",
    "                    print(f\"Saved {output_filename}\")\n",
    "\n",
    "input_directory = 'pdb_files/'       # Directory containing original PDB files\n",
    "output_directory = 'split_chains/'   # Directory to save split chain files\n",
    "split_pdb_by_chain(input_directory, output_directory)"
   ]
  },
  {
   "cell_type": "code",
   "execution_count": null,
   "id": "6917724f",
   "metadata": {},
   "outputs": [],
   "source": [
    "INPUT_DIR = \"split_chains/\"            # or your `output_dir`\n",
    "OUTPUT_DIR = \"sequences/\"\n",
    "\n",
    "os.makedirs(OUTPUT_DIR, exist_ok=True)\n",
    "\n",
    "parser = PDBParser(QUIET=True)\n",
    "ppb = PPBuilder()\n",
    "\n",
    "for pdb_file in glob.glob(os.path.join(INPUT_DIR, \"*.pdb\")):\n",
    "    structure = parser.get_structure(\"struct\", pdb_file)\n",
    "    seq = \"\"\n",
    "\n",
    "    model = next(structure.get_models())\n",
    "    chain = next(model.get_chains())  # auto-detects single chain in split file\n",
    "\n",
    "    for pp in ppb.build_peptides(chain):\n",
    "        seq += str(pp.get_sequence())\n",
    "\n",
    "    if not seq:\n",
    "        print(f\"No sequence found in {pdb_file}. Skipping...\")\n",
    "        continue\n",
    "\n",
    "    base_name = os.path.basename(pdb_file).replace(\".pdb\", \"\")\n",
    "    fasta_file = os.path.join(OUTPUT_DIR, f\"{base_name}.fa\")\n",
    "\n",
    "    with open(fasta_file, \"w\") as out_f:\n",
    "        out_f.write(f\">{base_name}\\n\")\n",
    "        for i in range(0, len(seq), 10):\n",
    "            out_f.write(seq[i:i+10] + \"\\n\")\n",
    "\n",
    "    print(f\" Extracted sequence for {base_name} -> {fasta_file}\")\n",
    "\n",
    "# Summary\n",
    "fasta_files = glob.glob(os.path.join(OUTPUT_DIR, \"*.fa\"))\n",
    "print(f\" Found {len(fasta_files)} FASTA files in {OUTPUT_DIR}.\")"
   ]
  },
  {
   "cell_type": "code",
   "execution_count": null,
   "id": "b9014ddf",
   "metadata": {},
   "outputs": [],
   "source": []
  }
 ],
 "metadata": {
  "kernelspec": {
   "display_name": "Python 3 (ipykernel)",
   "language": "python",
   "name": "python3"
  },
  "language_info": {
   "codemirror_mode": {
    "name": "ipython",
    "version": 3
   },
   "file_extension": ".py",
   "mimetype": "text/x-python",
   "name": "python",
   "nbconvert_exporter": "python",
   "pygments_lexer": "ipython3",
   "version": "3.10.12"
  }
 },
 "nbformat": 4,
 "nbformat_minor": 5
}
