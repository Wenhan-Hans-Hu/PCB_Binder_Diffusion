{
 "cells": [
  {
   "cell_type": "code",
   "execution_count": 2,
   "id": "653f6a0e",
   "metadata": {},
   "outputs": [
    {
     "name": "stdout",
     "output_type": "stream",
     "text": [
      "Done.\n"
     ]
    }
   ],
   "source": [
    "import pandas as pd\n",
    "from Bio.SeqUtils.ProtParam import ProteinAnalysis\n",
    "df = pd.read_excel(\"/home/wh621/Desktop/design_all.xlsx\")\n",
    "def compute_mw(sequence):\n",
    "    try:\n",
    "        return ProteinAnalysis(sequence).molecular_weight()\n",
    "    except Exception:\n",
    "        return None\n",
    "\n",
    "df['Molecular Weight (Da)'] = df['Protein Sequence'].apply(compute_mw)\n",
    "\n",
    "df.to_excel(\"/home/wh621/Desktop/design_all_with_mw.xlsx\", index=False)\n",
    "print('Done.')"
   ]
  }
 ],
 "metadata": {
  "kernelspec": {
   "display_name": "Python 3 (ipykernel)",
   "language": "python",
   "name": "python3"
  },
  "language_info": {
   "codemirror_mode": {
    "name": "ipython",
    "version": 3
   },
   "file_extension": ".py",
   "mimetype": "text/x-python",
   "name": "python",
   "nbconvert_exporter": "python",
   "pygments_lexer": "ipython3",
   "version": "3.10.12"
  }
 },
 "nbformat": 4,
 "nbformat_minor": 5
}
