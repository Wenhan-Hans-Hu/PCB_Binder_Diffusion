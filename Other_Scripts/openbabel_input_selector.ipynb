{
 "cells": [
  {
   "cell_type": "code",
   "execution_count": 1,
   "id": "0f8e947d",
   "metadata": {},
   "outputs": [
    {
     "name": "stdout",
     "output_type": "stream",
     "text": [
      "请输入 Angle1: 135\n",
      "请输入 Angle2: 180\n",
      "请输入 Angle3: -45\n",
      "\n",
      "最接近的前五个角度组合如下：\n",
      "         File   Angle1   Angle2  Angle3   Distance\n",
      "1083  pcb1968  135.172 -175.168 -33.171  12.779008\n",
      "2184   pcb712  137.564 -177.540 -32.524  12.972134\n",
      "1439  pcb2289  137.607 -176.688 -32.476  13.214249\n",
      "1785    pcb34  150.066  176.364 -30.272  21.380338\n",
      "426   pcb1376  140.684  161.108 -34.113  22.533138\n"
     ]
    }
   ],
   "source": [
    "import pandas as pd\n",
    "import numpy as np\n",
    "\n",
    "# 读取数据\n",
    "file_path = 'angles_output.xlsx'\n",
    "df = pd.read_excel(file_path)\n",
    "\n",
    "# 用户输入三个角度\n",
    "input_angle1 = float(input(\"请输入 Angle1: \"))\n",
    "input_angle2 = float(input(\"请输入 Angle2: \"))\n",
    "input_angle3 = float(input(\"请输入 Angle3: \"))\n",
    "\n",
    "# 定义 circular difference 函数（-180° 到 180° 范围内）\n",
    "def circular_diff(a, b):\n",
    "    return ((a - b + 180) % 360) - 180\n",
    "\n",
    "# 计算“角度差”的欧几里得距离\n",
    "df['Distance'] = np.sqrt(\n",
    "    circular_diff(df['Angle1'], input_angle1) ** 2 +\n",
    "    circular_diff(df['Angle2'], input_angle2) ** 2 +\n",
    "    circular_diff(df['Angle3'], input_angle3) ** 2\n",
    ")\n",
    "\n",
    "# 选出距离最小的前五行\n",
    "top_5_closest = df.nsmallest(5, 'Distance')\n",
    "\n",
    "# 输出结果\n",
    "print(\"\\n最接近的前五个角度组合如下：\")\n",
    "print(top_5_closest[['File', 'Angle1', 'Angle2', 'Angle3', 'Distance']])\n"
   ]
  }
 ],
 "metadata": {
  "kernelspec": {
   "display_name": "Python 3 (ipykernel)",
   "language": "python",
   "name": "python3"
  },
  "language_info": {
   "codemirror_mode": {
    "name": "ipython",
    "version": 3
   },
   "file_extension": ".py",
   "mimetype": "text/x-python",
   "name": "python",
   "nbconvert_exporter": "python",
   "pygments_lexer": "ipython3",
   "version": "3.10.12"
  }
 },
 "nbformat": 4,
 "nbformat_minor": 5
}
